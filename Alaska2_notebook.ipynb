{
 "cells": [
  {
   "cell_type": "code",
   "execution_count": 1,
   "metadata": {},
   "outputs": [],
   "source": [
    "import os\n",
    "os.environ[\"CUDA_DEVICE_ORDER\"] = \"PCI_BUS_ID\"\n",
    "os.environ[\"CUDA_VISIBLE_DEVICES\"]=\"3\"\n",
    "\n",
    "from glob import glob\n",
    "from sklearn.model_selection import GroupKFold\n",
    "import cv2\n",
    "from skimage import io\n",
    "import torch\n",
    "from torch import nn\n",
    "import os\n",
    "from datetime import datetime\n",
    "import time\n",
    "import random\n",
    "import cv2\n",
    "import pandas as pd\n",
    "import numpy as np\n",
    "import albumentations as A\n",
    "import matplotlib.pyplot as plt\n",
    "from albumentations.pytorch.transforms import ToTensorV2, ToTensor\n",
    "from torchvision import transforms as T\n",
    "\n",
    "from torch.utils.data import Dataset,DataLoader\n",
    "from torch.utils.data.sampler import SequentialSampler, RandomSampler\n",
    "import sklearn\n",
    "from efficientnet_pytorch import EfficientNet\n",
    "\n",
    "\n",
    "from tqdm.notebook import tqdm\n",
    "import torch.nn.functional as F\n",
    "from sklearn import metrics\n",
    "\n",
    "\n",
    "\n",
    "import warnings\n",
    "warnings.filterwarnings(\"ignore\")\n"
   ]
  },
  {
   "cell_type": "code",
   "execution_count": null,
   "metadata": {},
   "outputs": [],
   "source": []
  },
  {
   "cell_type": "code",
   "execution_count": 2,
   "metadata": {},
   "outputs": [],
   "source": [
    "train_df = pd.read_csv('./input/train.csv')\n",
    "val_df = pd.read_csv('./input/val.csv')\n",
    "\n",
    "train_df['kind'] = train_df['ImageFileName'].apply(lambda x: x.split('/')[-2])\n",
    "train_df['image_name'] = train_df['ImageFileName'].apply(lambda x: x.split('/')[-1])\n",
    "train_df['label4'] = train_df['kind'].map({'Cover':0, 'JMiPOD':1, 'JUNIWARD':2, 'UERD':3})\n",
    "\n",
    "\n",
    "val_df['kind'] = val_df['ImageFileName'].apply(lambda x: x.split('/')[-2])\n",
    "val_df['image_name'] = val_df['ImageFileName'].apply(lambda x: x.split('/')[-1])\n",
    "val_df['label4'] = val_df['kind'].map({'Cover':0, 'JMiPOD':1, 'JUNIWARD':2, 'UERD':3})"
   ]
  },
  {
   "cell_type": "code",
   "execution_count": 3,
   "metadata": {},
   "outputs": [],
   "source": [
    "train_df = train_df.sample(frac=1).reset_index(drop=True)\n",
    "val_df = val_df.sample(frac=1).reset_index(drop=True)\n"
   ]
  },
  {
   "cell_type": "code",
   "execution_count": 5,
   "metadata": {},
   "outputs": [],
   "source": [
    "def get_train_transforms():\n",
    "    return A.Compose([\n",
    "            A.Normalize(mean=(0.485, 0.456, 0.406), std=(0.229, 0.224, 0.225), max_pixel_value=255.0, p=1.0),\n",
    "            A.HorizontalFlip(p=0.5),\n",
    "            A.VerticalFlip(p=0.5),\n",
    "            ToTensor(),\n",
    "        ], p=1.0)\n",
    "\n",
    "def get_valid_transforms():\n",
    "    return A.Compose([\n",
    "            A.Normalize(mean=(0.485, 0.456, 0.406), std=(0.229, 0.224, 0.225), max_pixel_value=255.0, p=1.0),\n",
    "            ToTensor(),\n",
    "        ], p=1.0)"
   ]
  },
  {
   "cell_type": "code",
   "execution_count": null,
   "metadata": {},
   "outputs": [],
   "source": []
  },
  {
   "cell_type": "code",
   "execution_count": 6,
   "metadata": {},
   "outputs": [],
   "source": [
    "DATA_ROOT_PATH = '../../data/alaska/'\n",
    "class DatasetRetriever(Dataset):\n",
    "    def __init__(self, kinds, image_names, labels, transforms=None):\n",
    "        super().__init__()\n",
    "        self.kinds = kinds\n",
    "        self.image_names = image_names\n",
    "        self.labels = labels\n",
    "        self.transforms = transforms\n",
    "    def __getitem__(self, index: int):\n",
    "        kind, image_name, label = self.kinds[index], self.image_names[index], self.labels[index]\n",
    "        image = cv2.imread(f'{DATA_ROOT_PATH}/{kind}/{image_name}')[:, :, ::-1]\n",
    "        if self.transforms:\n",
    "            sample = {'image': image}\n",
    "            sample = self.transforms(**sample)\n",
    "            image = sample['image']\n",
    "        return image, label\n",
    "\n",
    "    def __len__(self) -> int:\n",
    "        return self.image_names.shape[0]\n",
    "\n",
    "    def get_labels(self):\n",
    "        return list(self.labels)"
   ]
  },
  {
   "cell_type": "code",
   "execution_count": 9,
   "metadata": {},
   "outputs": [],
   "source": [
    "train_dataset = DatasetRetriever(\n",
    "    kinds=train_df.kind.values,\n",
    "    image_names=train_df.image_name.values,\n",
    "    labels=train_df.label4.values,\n",
    "    transforms=get_train_transforms(),\n",
    ")\n",
    "validation_dataset = DatasetRetriever(\n",
    "    kinds=val_df.kind.values,\n",
    "    image_names=val_df.image_name.values,\n",
    "    labels=val_df.label4.values,\n",
    "    transforms=get_valid_transforms(),\n",
    ")"
   ]
  },
  {
   "cell_type": "code",
   "execution_count": 12,
   "metadata": {},
   "outputs": [],
   "source": [
    "def alaska_weighted_auc(y_true, y_valid):\n",
    "    \"\"\"\n",
    "    https://www.kaggle.com/anokas/weighted-auc-metric-updated\n",
    "    \"\"\"\n",
    "    tpr_thresholds = [0.0, 0.4, 1.0]\n",
    "    weights = [2, 1]\n",
    "    fpr, tpr, thresholds = metrics.roc_curve(y_true, y_valid, pos_label=1)\n",
    "    areas = np.array(tpr_thresholds[1:]) - np.array(tpr_thresholds[:-1])\n",
    "    normalization = np.dot(areas, weights)\n",
    "    competition_metric = 0\n",
    "    for idx, weight in enumerate(weights):\n",
    "        y_min = tpr_thresholds[idx]\n",
    "        y_max = tpr_thresholds[idx + 1]\n",
    "        mask = (y_min < tpr) & (tpr < y_max)\n",
    "        x_padding = np.linspace(fpr[mask][-1], 1, 100)\n",
    "        x = np.concatenate([fpr[mask], x_padding])\n",
    "        y = np.concatenate([tpr[mask], [y_max] * len(x_padding)])\n",
    "        y = y - y_min  # normalize such that curve starts at y=0\n",
    "        score = metrics.auc(x, y)\n",
    "        submetric = score * weight\n",
    "        best_subscore = (y_max - y_min) * weight\n",
    "        competition_metric += submetric\n",
    "    return competition_metric / normalization\n",
    "        "
   ]
  },
  {
   "cell_type": "code",
   "execution_count": 13,
   "metadata": {},
   "outputs": [],
   "source": [
    "class get_net(nn.Module):\n",
    "    def __init__(self, num_classes):\n",
    "        super().__init__()\n",
    "        self.model = EfficientNet.from_pretrained('efficientnet-b4')\n",
    "        self.dense_output = nn.Linear(1792, num_classes)\n",
    "\n",
    "    def forward(self, x):\n",
    "        feat = self.model.extract_features(x)\n",
    "        feat = F.avg_pool2d(feat, feat.size()[2:]).reshape(-1, 1792)\n",
    "        return self.dense_output(feat)"
   ]
  },
  {
   "cell_type": "code",
   "execution_count": 14,
   "metadata": {},
   "outputs": [
    {
     "name": "stdout",
     "output_type": "stream",
     "text": [
      "Loaded pretrained weights for efficientnet-b0\n"
     ]
    }
   ],
   "source": [
    "model = get_net()"
   ]
  },
  {
   "cell_type": "code",
   "execution_count": 20,
   "metadata": {},
   "outputs": [],
   "source": [
    "device = torch.device('cuda')\n",
    "batch_size = 64\n",
    "num_workers = 6 \n",
    "n_epochs = 200"
   ]
  },
  {
   "cell_type": "code",
   "execution_count": 21,
   "metadata": {},
   "outputs": [],
   "source": [
    "train_loader = torch.utils.data.DataLoader(\n",
    "    train_dataset,\n",
    "    batch_size=batch_size,\n",
    "    pin_memory=False,\n",
    "    drop_last=True,\n",
    "    num_workers=num_workers,\n",
    ")\n",
    "    \n",
    "val_loader = torch.utils.data.DataLoader(\n",
    "    validation_dataset, \n",
    "    batch_size=batch_size,\n",
    "    num_workers=num_workers,\n",
    "    shuffle=False,\n",
    "    pin_memory=False,\n",
    ")"
   ]
  },
  {
   "cell_type": "code",
   "execution_count": 23,
   "metadata": {},
   "outputs": [],
   "source": [
    "param_optimizer = list(model.named_parameters())\n",
    "no_decay = ['bias', 'LayerNorm.bias', 'LayerNorm.weight']\n",
    "optimizer_grouped_parameters = [\n",
    "    {'params': [p for n, p in param_optimizer if not any(nd in n for nd in no_decay)], 'weight_decay': 0.001},\n",
    "    {'params': [p for n, p in param_optimizer if any(nd in n for nd in no_decay)], 'weight_decay': 0.0}\n",
    "] \n",
    "\n",
    "optimizer = torch.optim.AdamW(model.parameters(), lr=5e-4)\n",
    "scheduler = lr_scheduler.CosineAnnealingLR(optimizer,T_max=200, eta_min=1e-7)\n",
    "\n",
    "criterion = torch.nn.CrossEntropyLoss()"
   ]
  },
  {
   "cell_type": "code",
   "execution_count": 24,
   "metadata": {},
   "outputs": [],
   "source": [
    "model.to(device);"
   ]
  },
  {
   "cell_type": "code",
   "execution_count": null,
   "metadata": {},
   "outputs": [],
   "source": []
  },
  {
   "cell_type": "code",
   "execution_count": 26,
   "metadata": {},
   "outputs": [],
   "source": [
    "def get_score(preds, y):\n",
    "    preds = np.array(preds)\n",
    "    labels = preds.argmax(1)\n",
    "    acc = (labels == y).mean()*100\n",
    "    new_preds = np.zeros((len(preds),))\n",
    "    temp = preds[labels != 0, 1:]\n",
    "    new_preds[labels != 0] = temp.sum(1)\n",
    "    new_preds[labels == 0] = preds[labels == 0, 0]\n",
    "    y = np.array(y)\n",
    "    y[y != 0] = 1\n",
    "    auc_score = alaska_weighted_auc(y, new_preds)\n",
    "    return auc_score, acc\n",
    "\n",
    "def model_train():\n",
    "    model.train();\n",
    "def model_eval():\n",
    "    model.eval()"
   ]
  },
  {
   "cell_type": "code",
   "execution_count": 27,
   "metadata": {},
   "outputs": [],
   "source": []
  },
  {
   "cell_type": "code",
   "execution_count": 28,
   "metadata": {},
   "outputs": [],
   "source": [
    "def save_model(path, loss,epoch):\n",
    "    model_eval()\n",
    "    torch.save({\n",
    "        'model_state_dict': model.state_dict(),\n",
    "        'optimizer_state_dict': optimizer.state_dict(),\n",
    "        'scheduler_state_dict': scheduler.state_dict(),\n",
    "        'model_loss': loss,\n",
    "        'epoch': epoch,\n",
    "    }, path)\n"
   ]
  },
  {
   "cell_type": "code",
   "execution_count": 29,
   "metadata": {},
   "outputs": [],
   "source": [
    "foledr = './dump/ef_b0_small_div255_improve_2/'"
   ]
  },
  {
   "cell_type": "code",
   "execution_count": null,
   "metadata": {},
   "outputs": [],
   "source": [
    "best_loss = 999999\n",
    "\n",
    "train_loss, val_loss = [], []\n",
    "for e in range(n_epochs):\n",
    "    model_train()\n",
    "    running_loss = 0\n",
    "    tk0 = tqdm(train_loader, total=int(len(train_loader)))\n",
    "    for im, labels in tk0:\n",
    "        inputs = im.to(device, dtype=torch.float)\n",
    "        labels = labels.to(device, dtype=torch.long)\n",
    "        optimizer.zero_grad()\n",
    "        outputs = model(inputs)\n",
    "        loss = criterion(outputs, labels)\n",
    "        loss.backward()\n",
    "        optimizer.step()\n",
    "        running_loss += loss.item()\n",
    "        tk0.set_postfix(loss=(loss.item()))\n",
    "    epoch_loss = running_loss / (len(train_loader))\n",
    "    train_loss.append(epoch_loss)\n",
    "    print('Training Loss: {:.8f}'.format(epoch_loss))\n",
    "    with open(foledr+\"/train_loss.txt\", \"a\") as text_file:\n",
    "        _ = text_file.write(str(epoch_loss)+'\\n')\n",
    "    \n",
    "    tk1 = tqdm(val_loader, total=int(len(val_loader)))\n",
    "    model_eval()\n",
    "    running_loss = 0\n",
    "    y, preds = [], []\n",
    "    with torch.no_grad():\n",
    "        for (im, labels) in tk1:\n",
    "            inputs = im.to(device, dtype=torch.float)\n",
    "            labels = labels.to(device, dtype=torch.long)\n",
    "            outputs = model(inputs)\n",
    "            loss = criterion(outputs, labels)\n",
    "            y.extend(labels.cpu().numpy().astype(int))\n",
    "            preds.extend(F.softmax(outputs, 1).cpu().numpy())\n",
    "            running_loss += loss.item()\n",
    "            tk1.set_postfix(loss=(loss.item()))\n",
    "        epoch_loss = running_loss / (len(val_loader))\n",
    "        val_loss.append(epoch_loss)\n",
    "        auc_score, acc = get_score(preds, y)\n",
    "\n",
    "        print(f'Val Loss: {epoch_loss:.3}, Weighted AUC:{auc_score:.3}, Acc: {acc:.3}')\n",
    "        with open(foledr+\"/val_loss.txt\", \"a\") as text_file:\n",
    "            _ = text_file.write(str(epoch_loss)+'\\n')\n",
    "        with open(foledr+\"/auc.txt\", \"a\") as text_file:\n",
    "            _ = text_file.write(str(auc_score)+'\\n')\n",
    "        with open(foledr+\"/acc.txt\", \"a\") as text_file:\n",
    "            _ = text_file.write(str(acc)+'\\n')\n",
    "    \n",
    "    if epoch_loss < best_loss:\n",
    "        best_loss = epoch_loss\n",
    "        save_model(foledr+'/best_model/best_cp.bin', epoch_loss,e)\n",
    "    save_model(foledr+'/last_model/last_cp.bin', epoch_loss,e)\n",
    "    scheduler.step(metrics=epoch_loss)\n",
    "        \n",
    "                "
   ]
  },
  {
   "cell_type": "code",
   "execution_count": null,
   "metadata": {},
   "outputs": [],
   "source": [
    "model_paths = ['./dump/model_0.925_17.635.h5',\n",
    "    './dump/model_0.925_17.679.h5',\n",
    "    './dump//model_0.924_17.725.h5']"
   ]
  },
  {
   "cell_type": "code",
   "execution_count": null,
   "metadata": {},
   "outputs": [],
   "source": [
    "data_dir = '/home/data/alaska/'\n",
    "from glob import glob\n",
    "class Alaska2TestDataset(Dataset):\n",
    "    def __init__(self, df, augmentations=None):\n",
    "        self.data = df\n",
    "        self.augment = augmentations\n",
    "\n",
    "    def __len__(self):\n",
    "        return len(self.data)\n",
    "\n",
    "    def __getitem__(self, idx):\n",
    "        fn = self.data.loc[idx][0]\n",
    "        im = cv2.imread(fn)[:, :, ::-1]\n",
    "\n",
    "        return im\n",
    "\n",
    "test_filenames = sorted(glob(f\"{data_dir}/Test/*.jpg\"))\n",
    "test_df = pd.DataFrame({'ImageFileName': list(\n",
    "    test_filenames)}, columns=['ImageFileName'])\n",
    "\n",
    "test_dataset = Alaska2TestDataset(test_df, augmentations=AUGMENTATIONS_TEST)\n",
    "testloader = torch.utils.data.DataLoader(test_dataset,\n",
    "                                          batch_size=8,\n",
    "                                          num_workers=8,\n",
    "                                          shuffle=False,\n",
    "                                          drop_last=False)"
   ]
  },
  {
   "cell_type": "code",
   "execution_count": null,
   "metadata": {},
   "outputs": [],
   "source": [
    "def to_sabmition(all_preds):\n",
    "    all_preds = np.array(all_preds)\n",
    "    s = np.sum([2**i for i in range(len(all_preds))])\n",
    "    all_preds = np.sum([all_preds[i]*2**(len(all_preds) -i - 1) for i in range(len(all_preds))], axis=0) / s\n",
    "    return all_preds\n",
    "\n",
    "def foo(preds):\n",
    "    preds = np.array(preds)\n",
    "    labels = preds.argmax(1)\n",
    "    result = np.zeros((len(preds),))\n",
    "    result[labels != 0] = preds[labels != 0, 1:].sum(1)\n",
    "    result[labels == 0] = 1 - preds[labels == 0, 0]\n",
    "    return result\n",
    "    \n",
    "p1, p2, p3 = [], [], []\n",
    "for i, model_path in enumerate(model_paths):\n",
    "    net = get_net(num_classes)\n",
    "    checkpoint = torch.load(model_path)\n",
    "    net.load_state_dict(torch.load_state_dict(checkpoint['model_state_dict']))\n",
    "    net = net.to(device)\n",
    "    net = net.eval() \n",
    "    \n",
    "    p1,p2,p3 = predict_test_by_model(net)\n",
    "    t1,t2,t3 = [], [], []\n",
    "    net = net.eval()\n",
    "    with torch.no_grad():\n",
    "        for inputs in tqdm(testloader):\n",
    "            inputs = inputs.to(device, dtype=torch.float)\n",
    "            t1.extend(F.softmax(net(inputs), 1).cpu().detach().numpy())\n",
    "            t2.extend(F.softmax(net(inputs.flip(2)), 1).cpu().detach().numpy())\n",
    "            t3.extend(F.softmax(net(inputs.flip(3)), 1).cpu().detach().numpy())\n",
    "    p1.append(foo(np.array(t1)))\n",
    "    p2.append(foo(np.array(t2)))\n",
    "    p3.append(foo(np.array(t3)))\n"
   ]
  },
  {
   "cell_type": "code",
   "execution_count": null,
   "metadata": {},
   "outputs": [],
   "source": [
    "submission = pd.read_csv('/home/data/alaska/sample_submission.csv')\n",
    "\n",
    "submission.Label = 0.4*to_sabmition(p1) + 0.3*to_sabmition(p2) + 0.3*to_sabmition(p3)\n",
    "submission.head()\n",
    "submission.to_csv('./dump/s/submition.csv', index=False)"
   ]
  }
 ],
 "metadata": {
  "kernelspec": {
   "display_name": "Python 3",
   "language": "python",
   "name": "python3"
  },
  "language_info": {
   "codemirror_mode": {
    "name": "ipython",
    "version": 3
   },
   "file_extension": ".py",
   "mimetype": "text/x-python",
   "name": "python",
   "nbconvert_exporter": "python",
   "pygments_lexer": "ipython3",
   "version": "3.6.3"
  }
 },
 "nbformat": 4,
 "nbformat_minor": 4
}
